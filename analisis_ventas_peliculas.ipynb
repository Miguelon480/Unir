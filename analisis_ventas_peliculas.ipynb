import pandas as pd
import matplotlib.pyplot as plt
import seaborn as sns
import statsmodels.api as sm

# Cargar los archivos CSV
ventas_df = pd.read_csv('/workspace/ventas_peliculas.csv')
promocion_df = pd.read_csv('/workspace/promocion_peliculas.csv')

# Combinar los DataFrames utilizando un left join
combined_df = pd.merge(ventas_df, promocion_df, on=['fecha', 'titulo'], how='left', validate='1:m')

# Rellenar valores nulos resultantes
combined_df.fillna(method='ffill', inplace=True)
combined_df.fillna(method='bfill', inplace=True)

# Identificar valores nulos
null_counts = combined_df.isna().sum()
print("Valores nulos por columna:\n", null_counts)

# Representar gráficamente las ventas de boletos semanales
plt.figure(figsize=(12, 6))
sns.lineplot(data=combined_df, x='fecha', y='ventas_boletos')
plt.title('Ventas de Boletos Semanales')
plt.xlabel('Fecha')
plt.ylabel('Ventas de Boletos')
plt.show()

# Comparar las ventas de semanas con eventos promocionales frente a semanas sin promoción
plt.figure(figsize=(12, 6))
sns.barplot(data=combined_df, x='eventos_promocionales', y='ventas_boletos')
plt.title('Ventas de Boletos: Semanas con y sin Eventos Promocionales')
plt.xlabel('Eventos Promocionales')
plt.ylabel('Ventas de Boletos')
plt.show()

# Identificar posibles outliers en las ventas de boletos utilizando un box plot
plt.figure(figsize=(12, 6))
sns.boxplot(data=combined_df, y='ventas_boletos')
plt.title('Box Plot de Ventas de Boletos')
plt.show()

# Calcular la correlación entre las variables
correlation_matrix = combined_df[['ventas_boletos', 'calificacion', 'eventos_promocionales', 'participacion_promocion']].corr()
print("Matriz de correlación:\n", correlation_matrix)

# Preparar los datos para el modelo de regresión lineal
X = combined_df[['calificacion', 'eventos_promocionales', 'participacion_promocion']]
y = combined_df['ventas_boletos']

# Agregar una constante a las variables independientes
X = sm.add_constant(X)

# Ajustar el modelo utilizando OLS (Mínimos Cuadrados Ordinarios)
model = sm.OLS(y, X).fit()

# Realizar predicciones
predictions = model.predict(X)

# Crear un gráfico que compare los valores reales frente a los predichos
plt.figure(figsize=(12, 6))
plt.scatter(y, predictions, color='steelblue')
plt.plot([y.min(), y.max()], [y.min(), y.max()], 'k--', lw=2)
plt.title('Comparación de Resultados Predichos vs. Valores Reales')
plt.xlabel('Valores Reales')
plt.ylabel('Valores Predichos')
plt.show()

# Solicitar un resumen completo del modelo
model_summary = model.summary()
print(model_summary)
