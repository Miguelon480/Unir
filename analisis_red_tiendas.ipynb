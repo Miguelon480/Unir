Instrucciones
La empresa ficticia RetailNow, que gestiona una cadena de tiendas minoristas, desea realizar un análisis detallado del rendimiento de sus diferentes sucursales en varias ciudades. Para ello, han recopilado datos de las ventas, los inventarios y la satisfacción del cliente en archivos CSV. Tu misión será procesar, explorar y analizar estos datos usando Pandas y Numpy para ayudar a la dirección a tomar decisiones estratégicas sobre la optimización del rendimiento de las tiendas.

1. Preparar el entorno de trabajo:
Abre Visual Studio Code y asegúrate de tener instalado el plugin de Jupyter.
Crea un nuevo archivo Jupyter Notebook llamado analisis_red_tiendas.ipynb.
2. Importar las librerías necesarias:
Importa las librerías Pandas y Numpy que necesitarás para realizar el análisis.
3. Cargar los datos (lectura y procesamiento de datos - Pandas):
Utiliza Pandas para cargar los archivos CSV: ventas.csv, inventarios.csv y satisfaccion.csv.
Guarda los datos en tres DataFrames distintos.
Limpia los datos eliminando filas con valores nulos utilizando el método dropna(). Esto te permitirá trabajar solo con datos válidos.
4. Exploración de datos (Pandas)
Calcula las ventas totales por producto y por tienda.
Calcula los ingresos totales por tienda, multiplicando la cantidad vendida por el precio unitario.
Genera un resumen estadístico de las ventas utilizando el método describe() para obtener la media, mediana y otras métricas clave.
Si los productos están clasificados por categorías, calcula el promedio de ventas por tienda y categoría de productos.
Utiliza groupby() en Pandas para calcular las ventas totales por tienda o por categoría.
5. Análisis de inventarios (Pandas)
Calcula la rotación de inventarios para cada tienda. Esto se hace dividiendo las ventas totales por el stock disponible de cada producto.
Almacena los resultados en una nueva columna dentro del DataFrame de inventarios.
Filtra y muestra las tiendas con niveles críticos de inventario, es decir, aquellas tiendas donde el porcentaje de productos vendidos sea menor al 10% del stock disponible.
Utiliza groupby() y operaciones matemáticas para calcular la rotación de inventarios.
Aplica filtros con Pandas para identificar las tiendas con niveles críticos.
6. Satisfacción del cliente (Pandas)
Realiza un análisis de la satisfacción de los clientes en cada tienda. Relaciona estos datos con el rendimiento de las ventas.
Filtra las tiendas con niveles bajos de satisfacción (< 60%) y haz recomendaciones para mejorar el rendimiento de estas tiendas.
7. Operaciones con Numpy
Usar Numpy para realizar los siguientes cálculos sobre las ventas:
Mediana de las ventas totales.
Desviación estándar de las ventas totales.
Para los cálculos, convierte la columna Total_Ventas del DataFrame de Pandas a un array de Numpy usando .to_numpy (o .values si lo prefieres).
Genera arrays aleatorios utilizando la biblioteca Numpy para simular proyecciones de ventas futuras.
Usa el módulo de aleatoriedad de Numpy y asegúrate de establecer una semilla (seed) para obtener resultados reproducibles.
Estructura del proyecto
Archivo principal: analisis_red_tiendas.ipynb
Este notebook será el archivo donde se importan y procesan los datos, se realizan los análisis solicitados, y se muestran los resultados. Incluirá el procesamiento con Pandas y cálculos con Numpy.

Archivos CSV:
ventas.csv: datos de ventas.
inventarios.csv: datos de inventarios.
satisfaccion.csv: datos de satisfacción de clientes.
Antes de comenzar, descarga este proyecto y úsalo como punto de partida para tu solución en local:
