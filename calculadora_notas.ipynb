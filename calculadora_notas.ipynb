# Definir las notas de los estudiantes
puntuaciones = [85, 92, 78, 90, 88]

# Función para calcular el promedio de puntuaciones
def calcular_promedio_puntuaciones(puntuaciones):
    total = 0
    for puntuacion in puntuaciones:
        total += puntuacion
    promedio = total / len(puntuaciones)
    return promedio

# Función para encontrar la puntuación máxima
def calcular_puntuacion_maxima(puntuaciones):
    maxima = puntuaciones[0]
    for puntuacion in puntuaciones:
        if puntuacion > maxima:
            maxima = puntuacion
    return maxima

# Función para calcular el total de puntuaciones
def calcular_total_puntuaciones(puntuaciones):
    total = 0
    for puntuacion in puntuaciones:
        total += puntuacion
    return total

# Probar las funciones
promedio = calcular_promedio_puntuaciones(puntuaciones)
maxima = calcular_puntuacion_maxima(puntuaciones)
total = calcular_total_puntuaciones(puntuaciones)

# Imprimir los resultados
print(f"Promedio de puntuaciones: {promedio}")
print(f"Puntuación máxima: {maxima}")
print(f"Total de puntuaciones: {total}")


